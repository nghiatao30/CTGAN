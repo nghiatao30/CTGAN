{
 "cells": [
  {
   "cell_type": "code",
   "execution_count": 1,
   "id": "efd94723-99a0-4530-b8f5-1e9be6299072",
   "metadata": {},
   "outputs": [],
   "source": [
    "import tensorflow as tf\n",
    "import pandas as pd\n",
    "import numpy as np\n",
    "import pandas as pd\n",
    "import os\n",
    "from sklearn.model_selection import train_test_split\n"
   ]
  },
  {
   "cell_type": "code",
   "execution_count": 2,
   "id": "6d359f55",
   "metadata": {},
   "outputs": [],
   "source": [
    "def load_datasets():\n",
    "    # Replace with your actual dataset paths\n",
    "    data1 = pd.read_csv('C:\\Final Project in Uni\\CTGAN\\expe/tabgandataset/2020\\ctabgan2020.csv')\n",
    "    data2 = pd.read_csv('C:\\Final Project in Uni\\CTGAN\\expe/tabgandataset/2017\\ctabgan2017.csv')\n",
    "    data3 = pd.read_csv('C:\\Final Project in Uni\\CTGAN\\expe/tabgandataset/2018\\ctabgan2018.csv')\n",
    "    data4 = pd.read_csv('C:\\Final Project in Uni\\CTGAN\\expe/tabgandataset/2023\\ctabgan2023.csv')\n",
    "    return data1, data2, data3, data4\n",
    "\n",
    "# Stratified split and save subsets\n",
    "def stratified_split_and_save(data, dataset_name, target_column, split_ratios, output_dir):\n",
    "    if not os.path.exists(output_dir):\n",
    "        os.makedirs(output_dir)\n",
    "    \n",
    "    for ratio in split_ratios:\n",
    "        subset_size = int(len(data) * ratio)\n",
    "        subset, _ = train_test_split(data, train_size=subset_size, stratify=data[target_column], random_state=42)\n",
    "        \n",
    "        # Save to file\n",
    "        file_name = f\"{dataset_name}_{int(ratio*100)}.csv\"\n",
    "        subset.to_csv(os.path.join(output_dir, file_name), index=False)\n",
    "        print(f\"Saved stratified subset {file_name} with {subset_size} rows.\")\n",
    "\n",
    "# Load subsets for experimentation\n",
    "def load_subsets(dataset_name, split_ratios, output_dir):\n",
    "    subsets = {}\n",
    "    for ratio in split_ratios:\n",
    "        file_name = f\"{dataset_name}_{int(ratio*100)}.csv\"\n",
    "        file_path = os.path.join(output_dir, file_name)\n",
    "        if os.path.exists(file_path):\n",
    "            subsets[ratio] = pd.read_csv(file_path)\n",
    "            print(f\"Loaded subset {file_name} with {len(subsets[ratio])} rows.\")\n",
    "        else:\n",
    "            print(f\"Subset file {file_name} not found. Please run stratified_split_and_save first.\")\n",
    "    return subsets\n"
   ]
  },
  {
   "cell_type": "code",
   "execution_count": 3,
   "id": "4e684d6f",
   "metadata": {},
   "outputs": [
    {
     "name": "stdout",
     "output_type": "stream",
     "text": [
      "Saved stratified subset tabgan2020_10.csv with 26146 rows.\n",
      "Saved stratified subset tabgan2020_20.csv with 52292 rows.\n",
      "Saved stratified subset tabgan2020_40.csv with 104585 rows.\n",
      "Saved stratified subset tabgan2020_80.csv with 209171 rows.\n",
      "Saved stratified subset tabgan2017_10.csv with 99427 rows.\n",
      "Saved stratified subset tabgan2017_20.csv with 198855 rows.\n",
      "Saved stratified subset tabgan2017_40.csv with 397711 rows.\n",
      "Saved stratified subset tabgan2017_80.csv with 795423 rows.\n",
      "Saved stratified subset tabgan2018_10.csv with 84868 rows.\n",
      "Saved stratified subset tabgan2018_20.csv with 169737 rows.\n",
      "Saved stratified subset tabgan2018_40.csv with 339474 rows.\n",
      "Saved stratified subset tabgan2018_80.csv with 678948 rows.\n",
      "Saved stratified subset tabgan2023_10.csv with 95656 rows.\n",
      "Saved stratified subset tabgan2023_20.csv with 191312 rows.\n",
      "Saved stratified subset tabgan2023_40.csv with 382625 rows.\n",
      "Saved stratified subset tabgan2023_80.csv with 765251 rows.\n"
     ]
    }
   ],
   "source": [
    "target_column = 'Target'  # Replace with your target column\n",
    "split_ratios = [0.1, 0.2, 0.4, 0.8]  # 10%, 20%, 40%, 80%\n",
    "\n",
    "data1, data2, data3, data4 = load_datasets()\n",
    "\n",
    "output_dir1 = \"C:\\Final Project in Uni\\CTGAN\\expe/tabgandataset/2020\"\n",
    "output_dir2 = \"C:\\Final Project in Uni\\CTGAN\\expe/tabgandataset/2017\"\n",
    "output_dir3 = \"C:\\Final Project in Uni\\CTGAN\\expe/tabgandataset/2018\"\n",
    "output_dir4 = \"C:\\Final Project in Uni\\CTGAN\\expe/tabgandataset/2023\"\n",
    "\n",
    "\n",
    "stratified_split_and_save(data1, \"tabgan2020\", target_column, split_ratios, output_dir1)\n",
    "stratified_split_and_save(data2, \"tabgan2017\", target_column, split_ratios, output_dir2)\n",
    "stratified_split_and_save(data3, \"tabgan2018\", target_column, split_ratios, output_dir3)\n",
    "stratified_split_and_save(data4, \"tabgan2023\", target_column, split_ratios, output_dir4)\n"
   ]
  }
 ],
 "metadata": {
  "kernelspec": {
   "display_name": "Python 3",
   "language": "python",
   "name": "python3"
  },
  "language_info": {
   "codemirror_mode": {
    "name": "ipython",
    "version": 3
   },
   "file_extension": ".py",
   "mimetype": "text/x-python",
   "name": "python",
   "nbconvert_exporter": "python",
   "pygments_lexer": "ipython3",
   "version": "3.8.10"
  }
 },
 "nbformat": 4,
 "nbformat_minor": 5
}
