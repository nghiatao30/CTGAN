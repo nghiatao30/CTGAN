{
 "cells": [
  {
   "cell_type": "code",
   "execution_count": null,
   "id": "efd94723-99a0-4530-b8f5-1e9be6299072",
   "metadata": {},
   "outputs": [],
   "source": [
    "from ctgan import CTGAN\n",
    "from ct_pool_match import load_tabular_data, train\n",
    "from ctgan import load_demo\n",
    "from sklearn.preprocessing import LabelEncoder\n",
    "from sklearn.preprocessing import MinMaxScaler, StandardScaler\n",
    "import torch\n",
    "import pandas as pd\n",
    "import numpy as np\n"
   ]
  },
  {
   "cell_type": "code",
   "execution_count": null,
   "id": "15175b69",
   "metadata": {},
   "outputs": [],
   "source": [
    "import tensorflow as tf\n",
    "print(torch.cuda.is_available())"
   ]
  },
  {
   "cell_type": "code",
   "execution_count": null,
   "id": "3c92c493-fe93-4d7c-9890-1c4b6903b6fb",
   "metadata": {},
   "outputs": [],
   "source": [
    "real_data = pd.read_csv(\"iotid20.csv\")"
   ]
  },
  {
   "cell_type": "code",
   "execution_count": null,
   "id": "7c224ecd-26b8-48b1-90d1-7e4fb43fd310",
   "metadata": {},
   "outputs": [],
   "source": [
    "scaler = StandardScaler()\n",
    "label = LabelEncoder()\n",
    "# data[data.columns[:-1]] = scaler.fit_transform(data[data.columns[:-1]])\n",
    "real_data[real_data.columns[:-1]] = np.array(real_data[real_data.columns[:-1]], dtype=float)\n",
    "real_data.replace([np.inf, -np.inf], np.nan, inplace=True)\n",
    "#data.iloc[:, -1] = label.fit_transform(data.iloc[:, -1])\n",
    "real_data.dropna(inplace=True)\n",
    "real_data.head(3).T"
   ]
  },
  {
   "cell_type": "code",
   "execution_count": null,
   "id": "5323cb34-33e8-4b10-9064-1ab9758a65fb",
   "metadata": {},
   "outputs": [],
   "source": [
    "\n",
    "def get_discrete_columns(dataframe, max_unique_values=80):\n",
    "    \"\"\"\n",
    "    Hàm để xác định các cột rời rạc (discrete), bao gồm các cột có số lượng giá trị unique ít hơn hoặc bằng max_unique_values.\n",
    "    Ngoài ra, có thể chuyển đổi kiểu dữ liệu của các cột rời rạc sang string.\n",
    "    \n",
    "    - dataframe: DataFrame chứa dữ liệu\n",
    "    - max_unique_values: Số lượng giá trị unique tối đa để coi là discrete (mặc định là 80)\n",
    "    - convert_to_string: Nếu True, chuyển kiểu dữ liệu của các cột rời rạc sang string.\n",
    "    \n",
    "    Trả về:\n",
    "    - discrete_columns: Danh sách tên các cột rời rạc.\n",
    "    - discrete_indices: Danh sách chỉ số (index) của các cột rời rạc.\n",
    "    \"\"\"\n",
    "    discrete_columns = []\n",
    "    discrete_indices = []\n",
    "    \n",
    "    for col in dataframe.columns:\n",
    "        unique_values = dataframe[col].nunique()\n",
    "        print(f\"Column '{col}' - Number of unique values: {unique_values}\")\n",
    "        # Chọn các cột có kiểu dữ liệu số và số lượng giá trị unique nhỏ hơn hoặc bằng max_unique_values\n",
    "        if dataframe[col].dtype in ['float64', 'int64'] and unique_values <= max_unique_values:\n",
    "            discrete_columns.append(col)\n",
    "            discrete_indices.append(dataframe.columns.get_loc(col))\n",
    "            \n",
    "            dataframe[col] = dataframe[col].astype(str)\n",
    "            print(f\"Column '{col}' converted to string.\")\n",
    "    \n",
    "    return discrete_columns, discrete_indices \n",
    "\n",
    "\n",
    "# Ví dụ với dataset của bạn\n",
    "discrete_columns, discrete_indices = get_discrete_columns(real_data)\n",
    "discrete_columns.append(\"Target\")\n",
    "print(\"Discrete Columns:\", discrete_columns)\n",
    "print(\"Indices of Discrete Columns:\", discrete_indices)"
   ]
  },
  {
   "cell_type": "code",
   "execution_count": null,
   "id": "43c540de-6787-4864-bf59-305939b7652b",
   "metadata": {},
   "outputs": [],
   "source": [
    "ctgan = CTGAN()"
   ]
  },
  {
   "cell_type": "code",
   "execution_count": null,
   "id": "19fe6a6e-fd27-42ef-8ce6-83bc90988ba4",
   "metadata": {},
   "outputs": [],
   "source": [
    "ctgan.load_model(\"output\\ctgan_model_epoch_20.pth\")\n",
    "#ctgan.fit(real_data, discrete_columns)"
   ]
  },
  {
   "cell_type": "code",
   "execution_count": null,
   "id": "cb429d24",
   "metadata": {},
   "outputs": [],
   "source": [
    "def get_unique_labels(dataframe, label_column):\n",
    "    \"\"\"\n",
    "    Trả về mảng các giá trị nhãn duy nhất từ một cột trong tập dữ liệu.\n",
    "\n",
    "    Args:\n",
    "        dataframe (pd.DataFrame): Tập dữ liệu đầu vào.\n",
    "        label_column (str): Tên cột chứa nhãn.\n",
    "\n",
    "    Returns:\n",
    "        list: Danh sách các nhãn duy nhất.\n",
    "    \"\"\"\n",
    "    if label_column not in dataframe.columns:\n",
    "        raise ValueError(f\"Cột '{label_column}' không tồn tại trong tập dữ liệu.\")\n",
    "    \n",
    "    unique_labels = dataframe[label_column].unique()\n",
    "    return unique_labels.tolist()"
   ]
  },
  {
   "cell_type": "code",
   "execution_count": null,
   "id": "99f655f8",
   "metadata": {},
   "outputs": [],
   "source": [
    "unique_labels = get_unique_labels(real_data, 'Target')\n",
    "unique_labels"
   ]
  },
  {
   "cell_type": "code",
   "execution_count": null,
   "id": "71005980",
   "metadata": {},
   "outputs": [],
   "source": [
    "def sample_by_label(ctgan, real_data, label_column):\n",
    "    \"\"\"\n",
    "    Tạo dữ liệu tổng hợp bằng cách sinh một số lượng mẫu bằng với số lượng mẫu của từng nhãn trong dữ liệu thực.\n",
    "\n",
    "    Args:\n",
    "        ctgan (CTGAN): Đối tượng CTGAN đã được huấn luyện.\n",
    "        real_data (pd.DataFrame): Tập dữ liệu thực.\n",
    "        label_column (str): Tên cột chứa nhãn.\n",
    "\n",
    "    Returns:\n",
    "        pd.DataFrame: Dữ liệu tổng hợp với số lượng mẫu tương ứng cho từng nhãn.\n",
    "    \"\"\"\n",
    "    # Kiểm tra nếu cột nhãn tồn tại\n",
    "    if label_column not in real_data.columns:\n",
    "        raise ValueError(f\"Cột '{label_column}' không tồn tại trong tập dữ liệu.\")\n",
    "    \n",
    "    # Lấy danh sách các nhãn duy nhất và số lượng mẫu của từng nhãn\n",
    "    label_counts = real_data[label_column].value_counts()\n",
    "    synthetic_data = []\n",
    "\n",
    "    # Sinh dữ liệu cho từng nhãn\n",
    "    for label, count in label_counts.items():\n",
    "        print(f\"Sinh {count} mẫu cho nhãn: {label}\")\n",
    "        batch_size = ctgan._batch_size  # Sử dụng batch_size từ CTGAN\n",
    "        total_synthetic = 0\n",
    "\n",
    "        current_synthetic = []\n",
    "        while total_synthetic < count:\n",
    "            remaining = min(batch_size, count - total_synthetic)\n",
    "            synthetic_samples = ctgan.sample_by_label(\n",
    "                n=remaining, \n",
    "                label_column=label_column, \n",
    "                label_value=label\n",
    "            )\n",
    "            synthetic_samples_df = pd.DataFrame(synthetic_samples)\n",
    "            current_synthetic.append(synthetic_samples_df)\n",
    "            total_synthetic += len(synthetic_samples_df)\n",
    "        \n",
    "        # Kết hợp các mẫu tổng hợp cho nhãn này\n",
    "        current_synthetic = pd.concat(current_synthetic, ignore_index=True)\n",
    "        \n",
    "        # Kiểm tra và điều chỉnh số lượng mẫu\n",
    "        if total_synthetic > count:\n",
    "            # Nếu nhiều hơn, cắt bớt\n",
    "            current_synthetic = current_synthetic.iloc[:count]\n",
    "            print(f\"Đã cắt bớt {total_synthetic - count} mẫu cho nhãn: {label}\")\n",
    "        elif total_synthetic < count:\n",
    "            # Nếu ít hơn, sinh thêm mẫu\n",
    "            print(f\"Thiếu {count - total_synthetic} mẫu, tiếp tục sinh...\")\n",
    "            remaining = count - total_synthetic\n",
    "            additional_samples = ctgan.sample_by_label(\n",
    "                n=remaining, \n",
    "                label_column=label_column, \n",
    "                label_value=label\n",
    "            )\n",
    "            additional_samples_df = pd.DataFrame(additional_samples)\n",
    "            current_synthetic = pd.concat([current_synthetic, additional_samples_df], ignore_index=True)\n",
    "        \n",
    "        # Thêm dữ liệu của nhãn này vào danh sách tổng hợp\n",
    "        synthetic_data.append(current_synthetic)\n",
    "        print(f\"Hoàn thành {len(current_synthetic)} mẫu cho nhãn: {label}\")\n",
    "    \n",
    "    # Kết hợp tất cả các mẫu tổng hợp\n",
    "    synthetic_data = pd.concat(synthetic_data, ignore_index=True)\n",
    "    return synthetic_data\n"
   ]
  },
  {
   "cell_type": "code",
   "execution_count": null,
   "id": "a46b043d",
   "metadata": {},
   "outputs": [],
   "source": [
    "def print_class_distribution(real_data, synthetic_data, label_column):\n",
    "    \"\"\"\n",
    "    In ra số lượng mẫu của từng class (nhãn) trong cả tập gốc và tập sinh.\n",
    "\n",
    "    Args:\n",
    "        real_data (pd.DataFrame): Tập dữ liệu thực.\n",
    "        synthetic_data (pd.DataFrame): Tập dữ liệu sinh.\n",
    "        label_column (str): Tên cột chứa nhãn.\n",
    "    \"\"\"\n",
    "    # Đếm số lượng mẫu của từng nhãn trong tập gốc\n",
    "    real_counts = real_data[label_column].value_counts()\n",
    "\n",
    "    # Đếm số lượng mẫu của từng nhãn trong tập sinh\n",
    "    synthetic_counts = synthetic_data[label_column].value_counts()\n",
    "\n",
    "    print(\"Số lượng mẫu của từng class:\")\n",
    "    print(\"-\" * 40)\n",
    "    print(f\"{'Class':<15}{'Real Count':<15}{'Synthetic Count'}\")\n",
    "    print(\"-\" * 40)\n",
    "\n",
    "    # Lấy danh sách tất cả các nhãn (cả trong tập gốc và tập sinh)\n",
    "    all_classes = set(real_counts.index).union(set(synthetic_counts.index))\n",
    "\n",
    "    # In ra số lượng mẫu cho từng nhãn\n",
    "    for cls in sorted(all_classes):\n",
    "        real_count = real_counts.get(cls, 0)  # Lấy số lượng mẫu từ tập gốc\n",
    "        synthetic_count = synthetic_counts.get(cls, 0)  # Lấy số lượng mẫu từ tập sinh\n",
    "        print(f\"{cls:<15}{real_count:<15}{synthetic_count}\")\n"
   ]
  },
  {
   "cell_type": "code",
   "execution_count": null,
   "id": "8c261fdb-5e06-4a29-8c67-e2ff5ece57ee",
   "metadata": {},
   "outputs": [],
   "source": [
    "# Create synthetic data\n",
    "##synthetic_data = sample_by_label(ctgan=ctgan, real_data=real_data, label_column='Target')"
   ]
  },
  {
   "cell_type": "code",
   "execution_count": null,
   "id": "5fce6cc7",
   "metadata": {},
   "outputs": [],
   "source": [
    "#print_class_distribution(real_data=real_data, synthetic_data=synthetic_data, label_column='Target')"
   ]
  },
  {
   "cell_type": "code",
   "execution_count": null,
   "id": "23f553e0-d61d-41de-ac09-d6e0e3852aff",
   "metadata": {},
   "outputs": [],
   "source": [
    "#synthetic_data.to_csv(\"ctgan_80_same_samplepclass.csv\", index=False)"
   ]
  },
  {
   "cell_type": "code",
   "execution_count": null,
   "id": "249970af",
   "metadata": {},
   "outputs": [],
   "source": [
    "def preprocess_data(data):\n",
    "    \"\"\"\n",
    "    Tiền xử lý dữ liệu bằng cách chuẩn hóa các cột số và mã hóa các cột danh mục.\n",
    "    \n",
    "    Args:\n",
    "        data (pd.DataFrame): Dữ liệu đầu vào.\n",
    "    \n",
    "    Returns:\n",
    "        tuple: \n",
    "            - pd.DataFrame: Dữ liệu đã được tiền xử lý.\n",
    "            - LabelEncoder: Bộ mã hóa nhãn được áp dụng.\n",
    "            - dict: Ánh xạ giữa nhãn gốc và mã hóa.\n",
    "    \"\"\"\n",
    "    data = data.copy()  # Tạo bản sao để tránh thay đổi dữ liệu gốc\n",
    "    \n",
    "    # Lấy danh sách các cột numeric và categorical\n",
    "    numerical_columns = data.select_dtypes(include=['float64', 'int64']).columns\n",
    "    categorical_columns = data.select_dtypes(include=['object', 'category']).columns\n",
    "\n",
    "    # Chuẩn hóa các cột số\n",
    "    if len(numerical_columns) > 0:\n",
    "        scaler = StandardScaler()\n",
    "        data[numerical_columns] = scaler.fit_transform(data[numerical_columns])\n",
    "    \n",
    "    encoder = LabelEncoder()\n",
    "    label_mapping = {}  # Lưu ánh xạ nhãn gốc -> mã hóa\n",
    "    # Mã hóa các cột danh mục\n",
    "    if len(categorical_columns) > 0:\n",
    "        for col in categorical_columns:\n",
    "            data[col] = encoder.fit_transform(data[col])\n",
    "            # Tạo ánh xạ nhãn gốc -> mã hóa cho cột nhãn\n",
    "            if col == 'Target':  # Giả định cột nhãn tên là 'Target'\n",
    "                label_mapping = dict(zip(encoder.classes_, range(len(encoder.classes_))))\n",
    "                label_mapping = {v: k for k, v in label_mapping.items()}\n",
    "    return data, label_mapping\n"
   ]
  },
  {
   "cell_type": "code",
   "execution_count": null,
   "id": "0df45e86",
   "metadata": {},
   "outputs": [],
   "source": [
    "import os\n",
    "import pandas as pd\n",
    "from torch.utils.data import DataLoader, TensorDataset\n",
    "class Args:\n",
    "    batch_size = 256\n",
    "    epochs = 10\n",
    "    print_freq = 10\n",
    "    data_path = 'your_data.csv'  # Đường dẫn tới dữ liệu\n",
    "    output_dir = './models'\n",
    "    generator_lr = 2e-4\n",
    "\n",
    "if not os.path.exists(Args.output_dir):\n",
    "    os.makedirs(Args.output_dir)\n",
    "\n",
    "real_traindata, label_mapping = preprocess_data(real_data)\n",
    "# Load dữ liệu\n",
    "\n",
    "real_traindata"
   ]
  },
  {
   "cell_type": "code",
   "execution_count": null,
   "id": "39933d8e",
   "metadata": {},
   "outputs": [],
   "source": [
    "label_mapping"
   ]
  },
  {
   "cell_type": "code",
   "execution_count": null,
   "id": "fcafd28c",
   "metadata": {},
   "outputs": [],
   "source": [
    "# Kiểm tra cột target và mã hóa\n",
    "print(real_traindata[real_traindata.columns[-1]].head())  # Giá trị ban đầu\n",
    "print(real_traindata['Target'].head())      # Giá trị sau mã hóa\n"
   ]
  },
  {
   "cell_type": "code",
   "execution_count": null,
   "id": "65cfbe56",
   "metadata": {},
   "outputs": [],
   "source": [
    "train_data = TensorDataset(torch.tensor(real_traindata.values, dtype=torch.float32))\n",
    "trainloader = DataLoader(train_data, batch_size=Args.batch_size, shuffle=True, drop_last=True)"
   ]
  },
  {
   "cell_type": "code",
   "execution_count": null,
   "id": "285448af",
   "metadata": {},
   "outputs": [],
   "source": [
    "discriminator = ctgan.getDiscriminator(real_traindata.values,1)"
   ]
  },
  {
   "cell_type": "code",
   "execution_count": null,
   "id": "7897a3e6",
   "metadata": {},
   "outputs": [],
   "source": [
    "import torch.nn as nn\n",
    "# Khởi tạo optimizer\n",
    "optim_d = torch.optim.Adam(discriminator.parameters(), lr=0.0002, betas=(0.5, 0.999))\n",
    "criterion = nn.BCEWithLogitsLoss() # type: ignore\n",
    "\n",
    "# Huấn luyện discriminator với dữ liệu từ CTGAN\n",
    "train(Args, ctgan, discriminator, optim_d, trainloader, label_mapping, criterion)"
   ]
  }
 ],
 "metadata": {
  "kernelspec": {
   "display_name": "Python 3",
   "language": "python",
   "name": "python3"
  },
  "language_info": {
   "codemirror_mode": {
    "name": "ipython",
    "version": 3
   },
   "file_extension": ".py",
   "mimetype": "text/x-python",
   "name": "python",
   "nbconvert_exporter": "python",
   "pygments_lexer": "ipython3",
   "version": "3.8.10"
  }
 },
 "nbformat": 4,
 "nbformat_minor": 5
}
