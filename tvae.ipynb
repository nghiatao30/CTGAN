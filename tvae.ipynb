{
 "cells": [
  {
   "cell_type": "code",
   "execution_count": 1,
   "id": "efd94723-99a0-4530-b8f5-1e9be6299072",
   "metadata": {},
   "outputs": [],
   "source": [
    "\n",
    "from ctgan import TVAE\n",
    "from sklearn.preprocessing import LabelEncoder\n",
    "from sklearn.preprocessing import MinMaxScaler, StandardScaler\n",
    "import torch\n",
    "import pandas as pd\n",
    "import numpy as np\n",
    "import os\n",
    "os.environ['CUDA_LAUNCH_BLOCKING'] = \"1\"\n"
   ]
  },
  {
   "cell_type": "code",
   "execution_count": 2,
   "id": "15175b69",
   "metadata": {},
   "outputs": [
    {
     "name": "stdout",
     "output_type": "stream",
     "text": [
      "True\n"
     ]
    }
   ],
   "source": [
    "import tensorflow as tf\n",
    "print(torch.cuda.is_available())"
   ]
  },
  {
   "cell_type": "code",
   "execution_count": 3,
   "id": "3c92c493-fe93-4d7c-9890-1c4b6903b6fb",
   "metadata": {},
   "outputs": [],
   "source": [
    "real_data = pd.read_csv(\"cicids2018.csv\")"
   ]
  },
  {
   "cell_type": "code",
   "execution_count": 4,
   "id": "7c224ecd-26b8-48b1-90d1-7e4fb43fd310",
   "metadata": {},
   "outputs": [
    {
     "data": {
      "text/html": [
       "<div>\n",
       "<style scoped>\n",
       "    .dataframe tbody tr th:only-of-type {\n",
       "        vertical-align: middle;\n",
       "    }\n",
       "\n",
       "    .dataframe tbody tr th {\n",
       "        vertical-align: top;\n",
       "    }\n",
       "\n",
       "    .dataframe thead th {\n",
       "        text-align: right;\n",
       "    }\n",
       "</style>\n",
       "<table border=\"1\" class=\"dataframe\">\n",
       "  <thead>\n",
       "    <tr style=\"text-align: right;\">\n",
       "      <th></th>\n",
       "      <th>0</th>\n",
       "      <th>1</th>\n",
       "      <th>2</th>\n",
       "    </tr>\n",
       "  </thead>\n",
       "  <tbody>\n",
       "    <tr>\n",
       "      <th>Dst Port</th>\n",
       "      <td>80.0</td>\n",
       "      <td>80.0</td>\n",
       "      <td>80.0</td>\n",
       "    </tr>\n",
       "    <tr>\n",
       "      <th>Protocol</th>\n",
       "      <td>6.0</td>\n",
       "      <td>6.0</td>\n",
       "      <td>6.0</td>\n",
       "    </tr>\n",
       "    <tr>\n",
       "      <th>Flow Duration</th>\n",
       "      <td>5007793.0</td>\n",
       "      <td>8938396.0</td>\n",
       "      <td>52700.0</td>\n",
       "    </tr>\n",
       "    <tr>\n",
       "      <th>Tot Fwd Pkts</th>\n",
       "      <td>4.0</td>\n",
       "      <td>2.0</td>\n",
       "      <td>5.0</td>\n",
       "    </tr>\n",
       "    <tr>\n",
       "      <th>Tot Bwd Pkts</th>\n",
       "      <td>4.0</td>\n",
       "      <td>0.0</td>\n",
       "      <td>3.0</td>\n",
       "    </tr>\n",
       "    <tr>\n",
       "      <th>...</th>\n",
       "      <td>...</td>\n",
       "      <td>...</td>\n",
       "      <td>...</td>\n",
       "    </tr>\n",
       "    <tr>\n",
       "      <th>Idle Mean</th>\n",
       "      <td>0.0</td>\n",
       "      <td>8938396.0</td>\n",
       "      <td>0.0</td>\n",
       "    </tr>\n",
       "    <tr>\n",
       "      <th>Idle Std</th>\n",
       "      <td>0.0</td>\n",
       "      <td>0.0</td>\n",
       "      <td>0.0</td>\n",
       "    </tr>\n",
       "    <tr>\n",
       "      <th>Idle Max</th>\n",
       "      <td>0.0</td>\n",
       "      <td>8938396.0</td>\n",
       "      <td>0.0</td>\n",
       "    </tr>\n",
       "    <tr>\n",
       "      <th>Idle Min</th>\n",
       "      <td>0.0</td>\n",
       "      <td>8938396.0</td>\n",
       "      <td>0.0</td>\n",
       "    </tr>\n",
       "    <tr>\n",
       "      <th>Target</th>\n",
       "      <td>DoS attacks-GoldenEye</td>\n",
       "      <td>DoS attacks-GoldenEye</td>\n",
       "      <td>DoS attacks-GoldenEye</td>\n",
       "    </tr>\n",
       "  </tbody>\n",
       "</table>\n",
       "<p>79 rows × 3 columns</p>\n",
       "</div>"
      ],
      "text/plain": [
       "                                   0                      1  \\\n",
       "Dst Port                        80.0                   80.0   \n",
       "Protocol                         6.0                    6.0   \n",
       "Flow Duration              5007793.0              8938396.0   \n",
       "Tot Fwd Pkts                     4.0                    2.0   \n",
       "Tot Bwd Pkts                     4.0                    0.0   \n",
       "...                              ...                    ...   \n",
       "Idle Mean                        0.0              8938396.0   \n",
       "Idle Std                         0.0                    0.0   \n",
       "Idle Max                         0.0              8938396.0   \n",
       "Idle Min                         0.0              8938396.0   \n",
       "Target         DoS attacks-GoldenEye  DoS attacks-GoldenEye   \n",
       "\n",
       "                                   2  \n",
       "Dst Port                        80.0  \n",
       "Protocol                         6.0  \n",
       "Flow Duration                52700.0  \n",
       "Tot Fwd Pkts                     5.0  \n",
       "Tot Bwd Pkts                     3.0  \n",
       "...                              ...  \n",
       "Idle Mean                        0.0  \n",
       "Idle Std                         0.0  \n",
       "Idle Max                         0.0  \n",
       "Idle Min                         0.0  \n",
       "Target         DoS attacks-GoldenEye  \n",
       "\n",
       "[79 rows x 3 columns]"
      ]
     },
     "execution_count": 4,
     "metadata": {},
     "output_type": "execute_result"
    }
   ],
   "source": [
    "scaler = StandardScaler()\n",
    "label = LabelEncoder()\n",
    "# data[data.columns[:-1]] = scaler.fit_transform(data[data.columns[:-1]])\n",
    "real_data[real_data.columns[:-1]] = np.array(real_data[real_data.columns[:-1]], dtype=float)\n",
    "real_data.replace([np.inf, -np.inf], np.nan, inplace=True)\n",
    "#data.iloc[:, -1] = label.fit_transform(data.iloc[:, -1])\n",
    "real_data.dropna(inplace=True)\n",
    "real_data.head(3).T"
   ]
  },
  {
   "cell_type": "code",
   "execution_count": null,
   "id": "5323cb34-33e8-4b10-9064-1ab9758a65fb",
   "metadata": {},
   "outputs": [
    {
     "name": "stdout",
     "output_type": "stream",
     "text": [
      "Column 'Dst Port' - Number of unique values: 37447\n",
      "Column 'Protocol' - Number of unique values: 3\n",
      "Column 'Protocol' converted to string.\n",
      "Column 'Flow Duration' - Number of unique values: 472240\n",
      "Column 'Tot Fwd Pkts' - Number of unique values: 704\n",
      "Column 'Tot Bwd Pkts' - Number of unique values: 942\n",
      "Column 'TotLen Fwd Pkts' - Number of unique values: 6486\n",
      "Column 'TotLen Bwd Pkts' - Number of unique values: 19272\n",
      "Column 'Fwd Pkt Len Max' - Number of unique values: 1453\n",
      "Column 'Fwd Pkt Len Min' - Number of unique values: 171\n",
      "Column 'Fwd Pkt Len Mean' - Number of unique values: 21898\n",
      "Column 'Fwd Pkt Len Std' - Number of unique values: 39819\n",
      "Column 'Bwd Pkt Len Max' - Number of unique values: 1240\n",
      "Column 'Bwd Pkt Len Min' - Number of unique values: 317\n",
      "Column 'Bwd Pkt Len Mean' - Number of unique values: 33207\n",
      "Column 'Bwd Pkt Len Std' - Number of unique values: 41211\n",
      "Column 'Flow Byts/s' - Number of unique values: 512726\n",
      "Column 'Flow Pkts/s' - Number of unique values: 493873\n",
      "Column 'Flow IAT Mean' - Number of unique values: 476335\n",
      "Column 'Flow IAT Std' - Number of unique values: 469722\n",
      "Column 'Flow IAT Max' - Number of unique values: 347728\n",
      "Column 'Flow IAT Min' - Number of unique values: 95121\n",
      "Column 'Fwd IAT Tot' - Number of unique values: 401280\n",
      "Column 'Fwd IAT Mean' - Number of unique values: 421240\n",
      "Column 'Fwd IAT Std' - Number of unique values: 358300\n",
      "Column 'Fwd IAT Max' - Number of unique values: 354055\n",
      "Column 'Fwd IAT Min' - Number of unique values: 124070\n",
      "Column 'Bwd IAT Tot' - Number of unique values: 321709\n",
      "Column 'Bwd IAT Mean' - Number of unique values: 336725\n",
      "Column 'Bwd IAT Std' - Number of unique values: 337184\n",
      "Column 'Bwd IAT Max' - Number of unique values: 243085\n",
      "Column 'Bwd IAT Min' - Number of unique values: 133047\n",
      "Column 'Fwd PSH Flags' - Number of unique values: 2\n",
      "Column 'Fwd PSH Flags' converted to string.\n",
      "Column 'Bwd PSH Flags' - Number of unique values: 1\n",
      "Column 'Bwd PSH Flags' converted to string.\n",
      "Column 'Fwd URG Flags' - Number of unique values: 2\n",
      "Column 'Fwd URG Flags' converted to string.\n",
      "Column 'Bwd URG Flags' - Number of unique values: 1\n",
      "Column 'Bwd URG Flags' converted to string.\n",
      "Column 'Fwd Header Len' - Number of unique values: 1153\n",
      "Column 'Bwd Header Len' - Number of unique values: 1728\n",
      "Column 'Fwd Pkts/s' - Number of unique values: 493288\n",
      "Column 'Bwd Pkts/s' - Number of unique values: 405017\n",
      "Column 'Pkt Len Min' - Number of unique values: 107\n",
      "Column 'Pkt Len Max' - Number of unique values: 1382\n",
      "Column 'Pkt Len Mean' - Number of unique values: 48500\n",
      "Column 'Pkt Len Std' - Number of unique values: 60865\n",
      "Column 'Pkt Len Var' - Number of unique values: 60853\n",
      "Column 'FIN Flag Cnt' - Number of unique values: 2\n",
      "Column 'FIN Flag Cnt' converted to string.\n",
      "Column 'SYN Flag Cnt' - Number of unique values: 2\n",
      "Column 'SYN Flag Cnt' converted to string.\n",
      "Column 'RST Flag Cnt' - Number of unique values: 2\n",
      "Column 'RST Flag Cnt' converted to string.\n",
      "Column 'PSH Flag Cnt' - Number of unique values: 2\n",
      "Column 'PSH Flag Cnt' converted to string.\n",
      "Column 'ACK Flag Cnt' - Number of unique values: 2\n",
      "Column 'ACK Flag Cnt' converted to string.\n",
      "Column 'URG Flag Cnt' - Number of unique values: 2\n",
      "Column 'URG Flag Cnt' converted to string.\n",
      "Column 'CWE Flag Count' - Number of unique values: 2\n",
      "Column 'CWE Flag Count' converted to string.\n",
      "Column 'ECE Flag Cnt' - Number of unique values: 2\n",
      "Column 'ECE Flag Cnt' converted to string.\n"
     ]
    }
   ],
   "source": [
    "\n",
    "def get_discrete_columns(dataframe, max_unique_values=80):\n",
    "    \"\"\"\n",
    "    Hàm để xác định các cột rời rạc (discrete), bao gồm các cột có số lượng giá trị unique ít hơn hoặc bằng max_unique_values.\n",
    "    Ngoài ra, có thể chuyển đổi kiểu dữ liệu của các cột rời rạc sang string.\n",
    "    \n",
    "    - dataframe: DataFrame chứa dữ liệu\n",
    "    - max_unique_values: Số lượng giá trị unique tối đa để coi là discrete (mặc định là 80)\n",
    "    - convert_to_string: Nếu True, chuyển kiểu dữ liệu của các cột rời rạc sang string.\n",
    "    \n",
    "    Trả về:\n",
    "    - discrete_columns: Danh sách tên các cột rời rạc.\n",
    "    - discrete_indices: Danh sách chỉ số (index) của các cột rời rạc.\n",
    "    \"\"\"\n",
    "    discrete_columns = []\n",
    "    discrete_indices = []\n",
    "    \n",
    "    for col in dataframe.columns:\n",
    "        unique_values = dataframe[col].nunique()\n",
    "        print(f\"Column '{col}' - Number of unique values: {unique_values}\")\n",
    "        # Chọn các cột có kiểu dữ liệu số và số lượng giá trị unique nhỏ hơn hoặc bằng max_unique_values\n",
    "        if dataframe[col].dtype in ['float64', 'int64'] and unique_values <= max_unique_values:\n",
    "            discrete_columns.append(col)\n",
    "            discrete_indices.append(dataframe.columns.get_loc(col))\n",
    "            \n",
    "            dataframe[col] = dataframe[col].astype(str)\n",
    "            print(f\"Column '{col}' converted to string.\")\n",
    "    \n",
    "    return discrete_columns, discrete_indices \n",
    "\n",
    "\n",
    "# Ví dụ với dataset của bạn\n",
    "discrete_columns, discrete_indices = get_discrete_columns(real_data)\n",
    "discrete_columns.append(\"Target\")\n",
    "print(\"Discrete Columns:\", discrete_columns)\n",
    "print(\"Indices of Discrete Columns:\", discrete_indices)"
   ]
  },
  {
   "cell_type": "code",
   "execution_count": 6,
   "id": "43c540de-6787-4864-bf59-305939b7652b",
   "metadata": {},
   "outputs": [],
   "source": [
    "tvae = TVAE()"
   ]
  },
  {
   "cell_type": "code",
   "execution_count": 7,
   "id": "19fe6a6e-fd27-42ef-8ce6-83bc90988ba4",
   "metadata": {},
   "outputs": [
    {
     "name": "stderr",
     "output_type": "stream",
     "text": [
      "c:\\Final Project in Uni\\CTGAN\\ctgan\\synthesizers\\ctgan.py:687: FutureWarning: You are using `torch.load` with `weights_only=False` (the current default value), which uses the default pickle module implicitly. It is possible to construct malicious pickle data which will execute arbitrary code during unpickling (See https://github.com/pytorch/pytorch/blob/main/SECURITY.md#untrusted-models for more details). In a future release, the default value for `weights_only` will be flipped to `True`. This limits the functions that could be executed during unpickling. Arbitrary objects will no longer be allowed to be loaded via this mode unless they are explicitly allowlisted by the user via `torch.serialization.add_safe_globals`. We recommend you start setting `weights_only=True` for any use case where you don't have full control of the loaded file. Please open an issue on GitHub for any issues related to this experimental feature.\n",
      "  checkpoint = torch.load(model_path, map_location=device)\n"
     ]
    },
    {
     "name": "stdout",
     "output_type": "stream",
     "text": [
      "Model loaded from 2018\\ctgan_model_epoch_10.pth\n"
     ]
    }
   ],
   "source": [
    "#ctgan.load_model(\"2018\\ctgan_model_epoch_10.pth\")\n",
    "tvae.fit(real_data, discrete_columns)"
   ]
  },
  {
   "cell_type": "code",
   "execution_count": 8,
   "id": "cb429d24",
   "metadata": {},
   "outputs": [],
   "source": [
    "def get_unique_labels(dataframe, label_column):\n",
    "    \"\"\"\n",
    "    Trả về mảng các giá trị nhãn duy nhất từ một cột trong tập dữ liệu.\n",
    "\n",
    "    Args:\n",
    "        dataframe (pd.DataFrame): Tập dữ liệu đầu vào.\n",
    "        label_column (str): Tên cột chứa nhãn.\n",
    "\n",
    "    Returns:\n",
    "        list: Danh sách các nhãn duy nhất.\n",
    "    \"\"\"\n",
    "    if label_column not in dataframe.columns:\n",
    "        raise ValueError(f\"Cột '{label_column}' không tồn tại trong tập dữ liệu.\")\n",
    "    \n",
    "    unique_labels = dataframe[label_column].unique()\n",
    "    return unique_labels.tolist()"
   ]
  },
  {
   "cell_type": "code",
   "execution_count": 9,
   "id": "99f655f8",
   "metadata": {},
   "outputs": [
    {
     "data": {
      "text/plain": [
       "['DoS attacks-GoldenEye',\n",
       " 'Infilteration',\n",
       " 'SSH-Bruteforce',\n",
       " 'Bot',\n",
       " 'DoS attacks-Hulk',\n",
       " 'DDoS attacks-LOIC-HTTP',\n",
       " 'DDOS attack-HOIC',\n",
       " 'Benign']"
      ]
     },
     "execution_count": 9,
     "metadata": {},
     "output_type": "execute_result"
    }
   ],
   "source": [
    "unique_labels = get_unique_labels(real_data, 'Target')\n",
    "unique_labels"
   ]
  },
  {
   "cell_type": "code",
   "execution_count": 11,
   "id": "a46b043d",
   "metadata": {},
   "outputs": [],
   "source": [
    "synthetic_data = tvae.sample(len(real_data))"
   ]
  },
  {
   "cell_type": "code",
   "execution_count": null,
   "id": "b649db8a",
   "metadata": {},
   "outputs": [],
   "source": [
    "synthetic_data.to_csv(\"2018/tvae_10e_2018_80pt.csv\", index=False)"
   ]
  }
 ],
 "metadata": {
  "kernelspec": {
   "display_name": "Python 3",
   "language": "python",
   "name": "python3"
  },
  "language_info": {
   "codemirror_mode": {
    "name": "ipython",
    "version": 3
   },
   "file_extension": ".py",
   "mimetype": "text/x-python",
   "name": "python",
   "nbconvert_exporter": "python",
   "pygments_lexer": "ipython3",
   "version": "3.8.10"
  }
 },
 "nbformat": 4,
 "nbformat_minor": 5
}
